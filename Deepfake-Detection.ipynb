{
 "cells": [
  {
   "cell_type": "markdown",
   "id": "efe2f08e-57b2-4468-8080-4940cd86e838",
   "metadata": {},
   "source": [
    "# Import necessary libraries"
   ]
  },
  {
   "cell_type": "code",
   "execution_count": 17,
   "id": "b1c6d69e-0760-4e3d-ad05-a85b8a0e4169",
   "metadata": {},
   "outputs": [],
   "source": [
    "import os\n",
    "import numpy as np\n",
    "import matplotlib.pyplot as plt\n",
    "import tensorflow as tf\n",
    "from tensorflow.keras.preprocessing.image import ImageDataGenerator\n",
    "from tensorflow.keras.applications import VGG16, VGG19, ResNet50, ResNet50V2, DenseNet121, DenseNet169, DenseNet201\n",
    "# from keras_vggface.vggface import VGGFace\n",
    "from tensorflow.keras.models import Model, Sequential\n",
    "from tensorflow.keras.layers import Dense, Flatten, Dropout, BatchNormalization, Conv2D, MaxPooling2D, BatchNormalization\n",
    "from tensorflow.keras.optimizers import Adam\n",
    "from tensorflow.keras.callbacks import EarlyStopping"
   ]
  },
  {
   "cell_type": "code",
   "execution_count": 2,
   "id": "5539c7bd-1700-41c6-b41a-6dbbb72015bd",
   "metadata": {},
   "outputs": [
    {
     "name": "stdout",
     "output_type": "stream",
     "text": [
      "Num GPUs Available:  1\n",
      "2.10.0\n"
     ]
    }
   ],
   "source": [
    "print(\"Num GPUs Available: \", len(tf.config.list_physical_devices('GPU')))\n",
    "print(tf.__version__)"
   ]
  },
  {
   "cell_type": "markdown",
   "id": "c79dca83-ea91-41d6-a538-7e82fadf3df1",
   "metadata": {},
   "source": [
    "# Define dataset path, IMAGE_SIZE, BATCH_SIZE, EPOCHS, OPTIMIZER"
   ]
  },
  {
   "cell_type": "code",
   "execution_count": 3,
   "id": "54c1bec4-796f-4c28-94c3-0f6d11150381",
   "metadata": {},
   "outputs": [],
   "source": [
    "DATASET_PATH = \"dataset\" \n",
    "\n",
    "IMG_SIZE = (224, 224)\n",
    "BATCH_SIZE = 32\n",
    "\n",
    "\n",
    "EPOCHS = 10\n",
    "OPTIMIZER = Adam(learning_rate=0.0001)\n",
    "\n",
    "history_dict = {} "
   ]
  },
  {
   "cell_type": "markdown",
   "id": "f8958136-c6fa-4c70-a547-75671bbc6576",
   "metadata": {},
   "source": [
    "# Image Augmentation for Training"
   ]
  },
  {
   "cell_type": "code",
   "execution_count": 4,
   "id": "99ac29ef-568f-49fb-bf88-53e121daf41c",
   "metadata": {},
   "outputs": [
    {
     "name": "stdout",
     "output_type": "stream",
     "text": [
      "Found 100000 images belonging to 2 classes.\n",
      "Found 20000 images belonging to 2 classes.\n",
      "Found 20000 images belonging to 2 classes.\n",
      "{'fake': 0, 'real': 1}\n"
     ]
    }
   ],
   "source": [
    "train_datagen = ImageDataGenerator(rescale=1./255)\n",
    "\n",
    "valid_datagen = ImageDataGenerator(rescale=1./255)\n",
    "\n",
    "test_datagen = ImageDataGenerator(rescale=1./255)\n",
    "\n",
    "train_generator = train_datagen.flow_from_directory(\n",
    "    directory=os.path.join(DATASET_PATH, \"train\"),\n",
    "    target_size=IMG_SIZE,\n",
    "    batch_size=BATCH_SIZE,\n",
    "    class_mode=\"binary\"\n",
    ")\n",
    "\n",
    "valid_generator = valid_datagen.flow_from_directory(\n",
    "    directory=os.path.join(DATASET_PATH, \"valid\"),\n",
    "    target_size=IMG_SIZE,\n",
    "    batch_size=BATCH_SIZE,\n",
    "    class_mode=\"binary\"\n",
    ")\n",
    "\n",
    "test_generator = test_datagen.flow_from_directory(\n",
    "    directory=os.path.join(DATASET_PATH, \"test\"),\n",
    "    target_size=IMG_SIZE,\n",
    "    batch_size=BATCH_SIZE,\n",
    "    class_mode=\"binary\",\n",
    "    shuffle=False \n",
    ")\n",
    "\n",
    "print(train_generator.class_indices)"
   ]
  },
  {
   "cell_type": "markdown",
   "id": "8c51e859-e28e-4ef0-ac50-65a18805ee17",
   "metadata": {},
   "source": [
    "# Custom CNN Model"
   ]
  },
  {
   "cell_type": "code",
   "execution_count": 18,
   "id": "35ee2da2-eb0c-4595-a208-300c2bd93dc4",
   "metadata": {},
   "outputs": [],
   "source": [
    "def create_custom_cnn():\n",
    "    model = Sequential([\n",
    "        # First Convolutional Block\n",
    "        Conv2D(32, (3,3), activation='relu', input_shape=(224,224,3)),\n",
    "        BatchNormalization(),\n",
    "        MaxPooling2D(2,2),\n",
    "\n",
    "        # Second Convolutional Block\n",
    "        Conv2D(64, (3,3), activation='relu'),\n",
    "        BatchNormalization(),\n",
    "        MaxPooling2D(2,2),\n",
    "\n",
    "        # Third Convolutional Block\n",
    "        Conv2D(128, (3,3), activation='relu'),\n",
    "        BatchNormalization(),\n",
    "        MaxPooling2D(2,2),\n",
    "\n",
    "        # Fourth Convolutional Block\n",
    "        Conv2D(256, (3,3), activation='relu'),\n",
    "        BatchNormalization(),\n",
    "        MaxPooling2D(2,2),\n",
    "\n",
    "        # Fifth Convolutional Block\n",
    "        Conv2D(512, (3,3), activation='relu'),\n",
    "        BatchNormalization(),\n",
    "        MaxPooling2D(2,2),\n",
    "\n",
    "        # Sixth Convolutional Block\n",
    "        Conv2D(512, (3,3), activation='relu'),\n",
    "        BatchNormalization(),\n",
    "        MaxPooling2D(2,2),\n",
    "\n",
    "        # Flatten and Fully Connected Layers\n",
    "        Flatten(),\n",
    "        Dense(512, activation='relu'),\n",
    "        Dropout(0.5), \n",
    "        Dense(128, activation='relu'),\n",
    "        Dropout(0.5),\n",
    "        Dense(1, activation='sigmoid') \n",
    "    ])\n",
    "    \n",
    "    return model\n"
   ]
  },
  {
   "cell_type": "markdown",
   "id": "7e03c9a6-9313-46f2-9291-1b7135b43975",
   "metadata": {},
   "source": [
    "# Pre-trained CNN models"
   ]
  },
  {
   "cell_type": "code",
   "execution_count": 19,
   "id": "eeb0e273-2cb4-45c0-bf62-47b9ff9a2acb",
   "metadata": {},
   "outputs": [],
   "source": [
    "def create_pretrained_model(base_model):\n",
    "    # if base_model == VGGFace: \n",
    "    #     base = VGGFace(model='vgg16', include_top=False, input_shape=(224, 224, 3), weights='vggface')  \n",
    "    # else:\n",
    "    #     base = base_model(weights=\"imagenet\", include_top=False, input_shape=(224, 224, 3)) \n",
    "    base = base_model(weights=\"imagenet\", include_top=False, input_shape=(224, 224, 3)) \n",
    "    \n",
    "    for layer in base.layers:\n",
    "        layer.trainable = False\n",
    "\n",
    "    model = Sequential([\n",
    "        base,\n",
    "        Flatten(),\n",
    "        Dense(256, activation='relu'),\n",
    "        Dropout(0.5),\n",
    "        Dense(1, activation='sigmoid')\n",
    "    ])\n",
    "    return model"
   ]
  },
  {
   "cell_type": "markdown",
   "id": "f7a4a408-84da-47e1-a198-aa5a4a6ff16b",
   "metadata": {},
   "source": [
    "# Define models"
   ]
  },
  {
   "cell_type": "code",
   "execution_count": 28,
   "id": "eb36a5cb-21a5-4729-9bda-b33c60e7e0db",
   "metadata": {},
   "outputs": [],
   "source": [
    "models = {\n",
    "    # \"Custom_CNN\": create_custom_cnn(),\n",
    "    # \"ResNet50\": create_pretrained_model(ResNet50),\n",
    "    # \"ResNet50V2\": create_pretrained_model(ResNet50V2),\n",
    "    # \"VGG16\": create_pretrained_model(VGG16),\n",
    "    \"VGG19\": create_pretrained_model(VGG19), \n",
    "    \"DenseNet121\": create_pretrained_model(DenseNet121),\n",
    "    \"DenseNet169\": create_pretrained_model(DenseNet169),\n",
    "    \"DenseNet201\": create_pretrained_model(DenseNet201)\n",
    "}"
   ]
  },
  {
   "cell_type": "code",
   "execution_count": 29,
   "id": "b415a345-af30-4568-bd3a-8bf0fbee9769",
   "metadata": {},
   "outputs": [
    {
     "name": "stdout",
     "output_type": "stream",
     "text": [
      "Training VGG19...\n",
      "Epoch 1/10\n",
      "3125/3125 [==============================] - 709s 226ms/step - loss: 0.4985 - accuracy: 0.7649 - val_loss: 0.3995 - val_accuracy: 0.8184\n",
      "Epoch 2/10\n",
      "3125/3125 [==============================] - 706s 226ms/step - loss: 0.3994 - accuracy: 0.8234 - val_loss: 0.3637 - val_accuracy: 0.8456\n",
      "Epoch 3/10\n",
      "3125/3125 [==============================] - 707s 226ms/step - loss: 0.3600 - accuracy: 0.8442 - val_loss: 0.3310 - val_accuracy: 0.8565\n",
      "Epoch 4/10\n",
      "3125/3125 [==============================] - 707s 226ms/step - loss: 0.3355 - accuracy: 0.8566 - val_loss: 0.3201 - val_accuracy: 0.8601\n",
      "Epoch 5/10\n",
      "3125/3125 [==============================] - 707s 226ms/step - loss: 0.3164 - accuracy: 0.8663 - val_loss: 0.3117 - val_accuracy: 0.8662\n",
      "Epoch 6/10\n",
      "3125/3125 [==============================] - 707s 226ms/step - loss: 0.3014 - accuracy: 0.8718 - val_loss: 0.3017 - val_accuracy: 0.8708\n",
      "Epoch 7/10\n",
      "3125/3125 [==============================] - 707s 226ms/step - loss: 0.2888 - accuracy: 0.8786 - val_loss: 0.2910 - val_accuracy: 0.8760\n",
      "Epoch 8/10\n",
      "3125/3125 [==============================] - 707s 226ms/step - loss: 0.2788 - accuracy: 0.8829 - val_loss: 0.2911 - val_accuracy: 0.8785\n",
      "Epoch 9/10\n",
      "3125/3125 [==============================] - 707s 226ms/step - loss: 0.2670 - accuracy: 0.8875 - val_loss: 0.2820 - val_accuracy: 0.8820\n",
      "Epoch 10/10\n",
      "3125/3125 [==============================] - 707s 226ms/step - loss: 0.2606 - accuracy: 0.8901 - val_loss: 0.2935 - val_accuracy: 0.8787\n",
      "VGG19 Training Completed and Saved! ✅\n",
      "\n",
      "Training DenseNet121...\n",
      "Epoch 1/10\n",
      "3125/3125 [==============================] - 482s 151ms/step - loss: 0.4137 - accuracy: 0.8197 - val_loss: 0.3025 - val_accuracy: 0.8673\n",
      "Epoch 2/10\n",
      "3125/3125 [==============================] - 469s 150ms/step - loss: 0.2968 - accuracy: 0.8763 - val_loss: 0.2433 - val_accuracy: 0.9004\n",
      "Epoch 3/10\n",
      "3125/3125 [==============================] - 470s 150ms/step - loss: 0.2580 - accuracy: 0.8939 - val_loss: 0.2348 - val_accuracy: 0.9018\n",
      "Epoch 4/10\n",
      "3125/3125 [==============================] - 469s 150ms/step - loss: 0.2323 - accuracy: 0.9050 - val_loss: 0.2055 - val_accuracy: 0.9176\n",
      "Epoch 5/10\n",
      "3125/3125 [==============================] - 469s 150ms/step - loss: 0.2144 - accuracy: 0.9126 - val_loss: 0.2134 - val_accuracy: 0.9147\n",
      "Epoch 6/10\n",
      "3125/3125 [==============================] - 469s 150ms/step - loss: 0.1983 - accuracy: 0.9182 - val_loss: 0.1959 - val_accuracy: 0.9219\n",
      "Epoch 7/10\n",
      "3125/3125 [==============================] - 468s 150ms/step - loss: 0.1869 - accuracy: 0.9222 - val_loss: 0.1867 - val_accuracy: 0.9257\n",
      "Epoch 8/10\n",
      "3125/3125 [==============================] - 469s 150ms/step - loss: 0.1761 - accuracy: 0.9272 - val_loss: 0.1902 - val_accuracy: 0.9275\n",
      "Epoch 9/10\n",
      "3125/3125 [==============================] - 469s 150ms/step - loss: 0.1650 - accuracy: 0.9315 - val_loss: 0.1805 - val_accuracy: 0.9315\n",
      "Epoch 10/10\n",
      "3125/3125 [==============================] - 469s 150ms/step - loss: 0.1579 - accuracy: 0.9339 - val_loss: 0.1966 - val_accuracy: 0.9280\n",
      "DenseNet121 Training Completed and Saved! ✅\n",
      "\n",
      "Training DenseNet169...\n",
      "Epoch 1/10\n",
      "3125/3125 [==============================] - 576s 180ms/step - loss: 0.3954 - accuracy: 0.8308 - val_loss: 0.2729 - val_accuracy: 0.8863\n",
      "Epoch 2/10\n",
      "3125/3125 [==============================] - 560s 179ms/step - loss: 0.2730 - accuracy: 0.8886 - val_loss: 0.2339 - val_accuracy: 0.9022\n",
      "Epoch 3/10\n",
      "3125/3125 [==============================] - 558s 179ms/step - loss: 0.2336 - accuracy: 0.9052 - val_loss: 0.2193 - val_accuracy: 0.9100\n",
      "Epoch 4/10\n",
      "3125/3125 [==============================] - 559s 179ms/step - loss: 0.2095 - accuracy: 0.9138 - val_loss: 0.2014 - val_accuracy: 0.9205\n",
      "Epoch 5/10\n",
      "3125/3125 [==============================] - 559s 179ms/step - loss: 0.1876 - accuracy: 0.9234 - val_loss: 0.2089 - val_accuracy: 0.9141\n",
      "Epoch 6/10\n",
      "3125/3125 [==============================] - 557s 178ms/step - loss: 0.1734 - accuracy: 0.9298 - val_loss: 0.1859 - val_accuracy: 0.9259\n",
      "Epoch 7/10\n",
      "3125/3125 [==============================] - 557s 178ms/step - loss: 0.1598 - accuracy: 0.9335 - val_loss: 0.1869 - val_accuracy: 0.9301\n",
      "Epoch 8/10\n",
      "3125/3125 [==============================] - 558s 179ms/step - loss: 0.1514 - accuracy: 0.9385 - val_loss: 0.1814 - val_accuracy: 0.9288\n",
      "Epoch 9/10\n",
      "3125/3125 [==============================] - 558s 178ms/step - loss: 0.1418 - accuracy: 0.9416 - val_loss: 0.1793 - val_accuracy: 0.9315\n",
      "Epoch 10/10\n",
      "3125/3125 [==============================] - 558s 179ms/step - loss: 0.1338 - accuracy: 0.9449 - val_loss: 0.1834 - val_accuracy: 0.9297\n",
      "DenseNet169 Training Completed and Saved! ✅\n",
      "\n",
      "Training DenseNet201...\n",
      "Epoch 1/10\n",
      "3125/3125 [==============================] - 706s 220ms/step - loss: 0.3991 - accuracy: 0.8304 - val_loss: 0.2666 - val_accuracy: 0.8906\n",
      "Epoch 2/10\n",
      "3125/3125 [==============================] - 685s 219ms/step - loss: 0.2740 - accuracy: 0.8880 - val_loss: 0.2395 - val_accuracy: 0.9025\n",
      "Epoch 3/10\n",
      "3125/3125 [==============================] - 685s 219ms/step - loss: 0.2371 - accuracy: 0.9041 - val_loss: 0.2128 - val_accuracy: 0.9129\n",
      "Epoch 4/10\n",
      "3125/3125 [==============================] - 681s 218ms/step - loss: 0.2122 - accuracy: 0.9147 - val_loss: 0.1997 - val_accuracy: 0.9193\n",
      "Epoch 5/10\n",
      "3125/3125 [==============================] - 683s 218ms/step - loss: 0.1936 - accuracy: 0.9215 - val_loss: 0.1950 - val_accuracy: 0.9218\n",
      "Epoch 6/10\n",
      "3125/3125 [==============================] - 682s 218ms/step - loss: 0.1782 - accuracy: 0.9278 - val_loss: 0.2144 - val_accuracy: 0.9200\n",
      "Epoch 7/10\n",
      "3125/3125 [==============================] - 686s 219ms/step - loss: 0.1665 - accuracy: 0.9325 - val_loss: 0.1932 - val_accuracy: 0.9243\n",
      "Epoch 8/10\n",
      "3125/3125 [==============================] - 683s 218ms/step - loss: 0.1550 - accuracy: 0.9360 - val_loss: 0.1869 - val_accuracy: 0.9298\n",
      "Epoch 9/10\n",
      "3125/3125 [==============================] - 682s 218ms/step - loss: 0.1455 - accuracy: 0.9405 - val_loss: 0.1877 - val_accuracy: 0.9291\n",
      "Epoch 10/10\n",
      "3125/3125 [==============================] - 684s 219ms/step - loss: 0.1344 - accuracy: 0.9445 - val_loss: 0.1910 - val_accuracy: 0.9303\n",
      "DenseNet201 Training Completed and Saved! ✅\n",
      "\n"
     ]
    }
   ],
   "source": [
    "import os\n",
    "\n",
    "os.makedirs(\"models\", exist_ok=True)\n",
    "\n",
    "for model_name, model in models.items():\n",
    "    print(f\"Training {model_name}...\")\n",
    "    \n",
    "    model.compile(optimizer=OPTIMIZER, loss=\"binary_crossentropy\", metrics=[\"accuracy\"])\n",
    "    \n",
    "    early_stop = EarlyStopping(monitor='val_loss', patience=3, restore_best_weights=True, verbose=1)\n",
    "    \n",
    "    history = model.fit(\n",
    "        train_generator,\n",
    "        validation_data=valid_generator,\n",
    "        epochs=EPOCHS,\n",
    "        callbacks=[early_stop]\n",
    "    )\n",
    "    \n",
    "    history_dict[model_name] = history \n",
    "\n",
    "    history.model.save(f\"models/{model_name}.keras\")\n",
    "    print(f\"{model_name} Training Completed and Saved! ✅\\n\")"
   ]
  },
  {
   "cell_type": "markdown",
   "id": "252271d4-cfda-453d-881a-8dce255bc37a",
   "metadata": {},
   "source": [
    "# 6. Plot Accuracy & Loss for Each Model"
   ]
  },
  {
   "cell_type": "code",
   "execution_count": 9,
   "id": "b0c7b07e-dd2a-4935-9d15-511040081cec",
   "metadata": {},
   "outputs": [],
   "source": [
    "def plot_performance(history, model_name):\n",
    "    plt.figure(figsize=(12,4))\n",
    "    \n",
    "    # Plot Accuracy\n",
    "    plt.subplot(1,2,1)\n",
    "    plt.plot(history.history['accuracy'], label='Train Accuracy')\n",
    "    plt.plot(history.history['val_accuracy'], label='Validation Accuracy')\n",
    "    plt.title(f'{model_name} Accuracy')\n",
    "    plt.xlabel('Epochs')\n",
    "    plt.ylabel('Accuracy')\n",
    "    plt.legend()\n",
    "    \n",
    "    # Plot Loss\n",
    "    plt.subplot(1,2,2)\n",
    "    plt.plot(history.history['loss'], label='Train Loss')\n",
    "    plt.plot(history.history['val_loss'], label='Validation Loss')\n",
    "    plt.title(f'{model_name} Loss')\n",
    "    plt.xlabel('Epochs')\n",
    "    plt.ylabel('Loss')\n",
    "    plt.legend()\n",
    "    \n",
    "    plt.show()"
   ]
  },
  {
   "cell_type": "code",
   "execution_count": 10,
   "id": "f99517a7-3b54-4b64-a04a-dc0fa32dddd1",
   "metadata": {},
   "outputs": [
    {
     "data": {
      "image/png": "[encoded data removed]",
      "text/plain": [
       "<Figure size 1200x400 with 2 Axes>"
      ]
     },
     "metadata": {},
     "output_type": "display_data"
    }
   ],
   "source": [
    "for model_name, history in history_dict.items():\n",
    "    plot_performance(history, model_name)"
   ]
  },
  {
   "cell_type": "markdown",
   "id": "cc35354d-dcc9-4842-94cf-6e6b05c79ea3",
   "metadata": {},
   "source": [
    "# 7. Model Evaluation on Test Images"
   ]
  },
  {
   "cell_type": "code",
   "execution_count": 11,
   "id": "ea94706d-76a8-45be-965c-533bc2e9d7df",
   "metadata": {},
   "outputs": [],
   "source": [
    "def predict_image(model, img_path):\n",
    "    from tensorflow.keras.preprocessing import image\n",
    "    img = image.load_img(img_path, target_size=IMG_SIZE)\n",
    "    img_array = image.img_to_array(img) / 255.0\n",
    "    img_array = np.expand_dims(img_array, axis=0)\n",
    "    \n",
    "    prediction = model.predict(img_array)[0][0]\n",
    "    \n",
    "    plt.imshow(img)\n",
    "    plt.axis('off')\n",
    "    label = \"Fake\" if prediction > 0.5 else \"Real\"\n",
    "    plt.title(f\"Prediction: {label} ({prediction:.2f})\")\n",
    "    plt.show()"
   ]
  },
  {
   "cell_type": "code",
   "execution_count": 15,
   "id": "84eab826-1a4b-4d06-8c23-b9c68b9e0840",
   "metadata": {},
   "outputs": [
    {
     "name": "stdout",
     "output_type": "stream",
     "text": [
      "625/625 [==============================] - 51s 81ms/step\n",
      "              precision    recall  f1-score   support\n",
      "\n",
      "        Real       0.98      0.96      0.97     10000\n",
      "        Fake       0.96      0.98      0.97     10000\n",
      "\n",
      "    accuracy                           0.97     20000\n",
      "   macro avg       0.97      0.97      0.97     20000\n",
      "weighted avg       0.97      0.97      0.97     20000\n",
      "\n"
     ]
    }
   ],
   "source": [
    "from tensorflow.keras.models import load_model\n",
    "from sklearn.metrics import classification_report, confusion_matrix\n",
    "\n",
    "# model_path = \"models/ResNet5.keras\"  \n",
    "model_path = \"models/Custom_CNN.keras\" \n",
    "model = load_model(model_path)\n",
    "\n",
    "# Get predictions on test data\n",
    "y_pred = model.predict(test_generator)\n",
    "y_pred = np.where(y_pred > 0.5, 1, 0)  \n",
    "\n",
    "# Get true labels\n",
    "y_true = test_generator.classes\n",
    "\n",
    "# Print classification report (Precision, Recall, F1-Score, Accuracy)\n",
    "print(classification_report(y_true, y_pred, target_names=[\"Real\", \"Fake\"]))\n"
   ]
  },
  {
   "cell_type": "markdown",
   "id": "960d7555-b062-4783-af65-dd552a17b09d",
   "metadata": {},
   "source": [
    "# Test with sample images"
   ]
  }
 ],
 "metadata": {
  "kernelspec": {
   "display_name": "Python 3 (ipykernel)",
   "language": "python",
   "name": "python3"
  },
  "language_info": {
   "codemirror_mode": {
    "name": "ipython",
    "version": 3
   },
   "file_extension": ".py",
   "mimetype": "text/x-python",
   "name": "python",
   "nbconvert_exporter": "python",
   "pygments_lexer": "ipython3",
   "version": "3.10.13"
  }
 },
 "nbformat": 4,
 "nbformat_minor": 5
}
